{
  "nbformat": 4,
  "nbformat_minor": 0,
  "metadata": {
    "colab": {
      "provenance": [],
      "collapsed_sections": [
        "ZSXvlhEEpsnx",
        "mWU_M4BMqcFk",
        "AUFm9hyekQgX",
        "7smPFtu7pj-f"
      ],
      "toc_visible": true,
      "authorship_tag": "ABX9TyOKHeqtxL1jmEuiw80bH/22"
    },
    "kernelspec": {
      "name": "python3",
      "display_name": "Python 3"
    },
    "language_info": {
      "name": "python"
    }
  },
  "cells": [
    {
      "cell_type": "markdown",
      "source": [
        "# **Regression**\n",
        "\n",
        "> ❗ **Recall**\n",
        "\n",
        "> Estimating the amount of crop production is a **regression** task since crop `Production` quantity is a continuous variable that takes on an infinate number of possible values\n"
      ],
      "metadata": {
        "id": "YrrU-zPFs1ZO"
      }
    },
    {
      "cell_type": "markdown",
      "metadata": {
        "id": "CIwHZaQ11oIn"
      },
      "source": [
        "## Load and clean the data\n",
        "> We'll load and clean the data the same way we did in the previous notebook during Exploratory Data Analysis (EDA)"
      ]
    },
    {
      "cell_type": "markdown",
      "source": [
        "> ✋ **Recall**\n",
        "\n",
        "> Also, during the EDA phase, we concluded we'll model using the following columns: `Crop`, `Season`, `State`, `Area`, `Fertilizer`, `Pesticide`\n",
        "+ The `usecols` parameter of the [`pandas.read_csv`](https://pandas.pydata.org/docs/reference/api/pandas.read_csv.html) method allows us to explicitly specify what columns we want included"
      ],
      "metadata": {
        "id": "qZgiJ9G4wrS0"
      }
    },
    {
      "cell_type": "code",
      "execution_count": 75,
      "metadata": {
        "id": "6wld264S1idH"
      },
      "outputs": [],
      "source": [
        "# import pandas, matplotlib, seaborn\n",
        "import matplotlib\n",
        "import pandas as pd\n",
        "import matplotlib.pyplot as plt\n",
        "import seaborn as sns\n",
        "import numpy as np\n",
        "\n",
        "# specify stylesheet\n",
        "plt.style.use('fast')"
      ]
    },
    {
      "cell_type": "code",
      "execution_count": 2,
      "metadata": {
        "colab": {
          "base_uri": "https://localhost:8080/"
        },
        "id": "0DnBE_stz_hp",
        "outputId": "a32ef473-0871-4548-9684-79e95ca315d1"
      },
      "outputs": [
        {
          "output_type": "stream",
          "name": "stdout",
          "text": [
            "<class 'pandas.core.frame.DataFrame'>\n",
            "RangeIndex: 19689 entries, 0 to 19688\n",
            "Data columns (total 7 columns):\n",
            " #   Column      Non-Null Count  Dtype  \n",
            "---  ------      --------------  -----  \n",
            " 0   Crop        19689 non-null  object \n",
            " 1   Season      19689 non-null  object \n",
            " 2   State       19689 non-null  object \n",
            " 3   Area        19689 non-null  float64\n",
            " 4   Production  19689 non-null  int64  \n",
            " 5   Fertilizer  19689 non-null  float64\n",
            " 6   Pesticide   19689 non-null  float64\n",
            "dtypes: float64(3), int64(1), object(3)\n",
            "memory usage: 1.1+ MB\n"
          ]
        }
      ],
      "source": [
        "# load the dataset into a pandas DataFrame object, but only for the needed columns\n",
        "crops = pd.read_csv('/content/crop_yields.csv',\n",
        "    usecols=['Crop', 'Season', 'State', 'Area', 'Fertilizer', 'Pesticide', 'Production'])\n",
        "\n",
        "# dataset info\n",
        "crops.info()"
      ]
    },
    {
      "cell_type": "code",
      "source": [
        "# re-arrange the columns to have the Production column at the end\n",
        "crop_cols = crops.columns.to_list()\n",
        "crop_cols.pop(crops.columns.get_loc('Production'))\n",
        "crop_cols.append('Production')\n",
        "crops = crops[crop_cols]"
      ],
      "metadata": {
        "id": "nA10HqZ-k0-G"
      },
      "execution_count": 3,
      "outputs": []
    },
    {
      "cell_type": "markdown",
      "metadata": {
        "id": "nCnK_C3nyYQd"
      },
      "source": [
        "### Numeric & categorical columns\n",
        "> Distinguish _numeric_ & _categorical_ columns\n",
        "+ Use [`DataFrame.select_dtypes()`](https://pandas.pydata.org/docs/reference/api/pandas.DataFrame.select_dtypes.html) to return a subset of the DataFrame’s columns based on the column dtypes\n",
        "+ Then return the column names and turn those into a `list`\n",
        "+ Here, [`DataFrame.iloc[]`](https://pandas.pydata.org/docs/reference/api/pandas.DataFrame.iloc.html) is used to select all rows, from column `0` to second-last"
      ]
    },
    {
      "cell_type": "code",
      "execution_count": 4,
      "metadata": {
        "colab": {
          "base_uri": "https://localhost:8080/"
        },
        "id": "GTrm0-hrycaJ",
        "outputId": "0c640df7-37ed-4b9e-bc26-69e69dcedb70"
      },
      "outputs": [
        {
          "output_type": "execute_result",
          "data": {
            "text/plain": [
              "['Area', 'Fertilizer', 'Pesticide']"
            ]
          },
          "metadata": {},
          "execution_count": 4
        }
      ],
      "source": [
        "# numeric\n",
        "num_cols = crops.iloc[:, 0 :-1].select_dtypes(include='number')\\\n",
        "                              .columns.to_list()\n",
        "num_cols"
      ]
    },
    {
      "cell_type": "code",
      "execution_count": 5,
      "metadata": {
        "colab": {
          "base_uri": "https://localhost:8080/"
        },
        "id": "xOygl6iozJaG",
        "outputId": "da3b5012-5e07-47c6-c797-1f27a1efcc33"
      },
      "outputs": [
        {
          "output_type": "execute_result",
          "data": {
            "text/plain": [
              "['Crop', 'Season', 'State']"
            ]
          },
          "metadata": {},
          "execution_count": 5
        }
      ],
      "source": [
        "# categorical\n",
        "cat_cols = crops.select_dtypes(include='object').columns.to_list()\n",
        "cat_cols"
      ]
    },
    {
      "cell_type": "code",
      "source": [
        "# get index of categorical columns in DataFrame\n",
        "cat_cols_indices = [crops.columns.get_loc(x) for x in cat_cols]\n",
        "cat_cols_indices"
      ],
      "metadata": {
        "colab": {
          "base_uri": "https://localhost:8080/"
        },
        "id": "ToI2qEubuLgf",
        "outputId": "ca0e2f44-11ac-4023-c8cc-3bc8ca503f5c"
      },
      "execution_count": 6,
      "outputs": [
        {
          "output_type": "execute_result",
          "data": {
            "text/plain": [
              "[0, 1, 2]"
            ]
          },
          "metadata": {},
          "execution_count": 6
        }
      ]
    },
    {
      "cell_type": "code",
      "source": [
        "# get index of numerical columns in DataFrame\n",
        "num_cols_indices = [crops.columns.get_loc(x) for x in num_cols]\n",
        "num_cols_indices"
      ],
      "metadata": {
        "colab": {
          "base_uri": "https://localhost:8080/"
        },
        "id": "k7yijoYhvKOI",
        "outputId": "2319367d-8307-40d4-c3d0-6f7770510d62"
      },
      "execution_count": 7,
      "outputs": [
        {
          "output_type": "execute_result",
          "data": {
            "text/plain": [
              "[3, 4, 5]"
            ]
          },
          "metadata": {},
          "execution_count": 7
        }
      ]
    },
    {
      "cell_type": "code",
      "source": [
        "# remove leading & trailing whitespaces from categorical values\n",
        "for col in cat_cols:\n",
        "  crops[col] = crops[col].apply(lambda x: x.strip())"
      ],
      "metadata": {
        "id": "Mw8qaIYrxctB"
      },
      "execution_count": 8,
      "outputs": []
    },
    {
      "cell_type": "markdown",
      "source": [
        "### Filter out unwanted rows (based on categorical features)\n",
        "> 💡 **Info**\n",
        "\n",
        "> Recall, that all [`pandas.DataFrame`](https://pandas.pydata.org/docs/reference/frame.html) columns can be accessed as [`pandas.Series`](https://pandas.pydata.org/docs/reference/series.html) objects\n",
        "+ [`pandas.Series.nunique()`](https://pandas.pydata.org/docs/reference/api/pandas.Series.nunique.html) - Returns number of unique elements in the _column_\n",
        "+ [`pandas.Series.unique()`](https://pandas.pydata.org/docs/reference/api/pandas.Series.unique.html) - Returns unique values in the _column_"
      ],
      "metadata": {
        "id": "siKhQ5jm0fUU"
      }
    },
    {
      "cell_type": "code",
      "source": [
        "# loop through each categorical feature\n",
        "for col in cat_cols:\n",
        "  print(f'No. of {col}s: {crops[col].nunique()}')\n",
        "  print(f'Unique {col}s:\\n{crops[col].unique()}\\n\\n-------------------')"
      ],
      "metadata": {
        "colab": {
          "base_uri": "https://localhost:8080/"
        },
        "id": "Nif-WBHb0mAu",
        "outputId": "e989d5e2-d0fc-48b8-995a-f283fe2b694e"
      },
      "execution_count": 9,
      "outputs": [
        {
          "output_type": "stream",
          "name": "stdout",
          "text": [
            "No. of Crops: 55\n",
            "Unique Crops:\n",
            "['Arecanut' 'Arhar/Tur' 'Castor seed' 'Coconut' 'Cotton(lint)'\n",
            " 'Dry chillies' 'Gram' 'Jute' 'Linseed' 'Maize' 'Mesta' 'Niger seed'\n",
            " 'Onion' 'Other  Rabi pulses' 'Potato' 'Rapeseed &Mustard' 'Rice'\n",
            " 'Sesamum' 'Small millets' 'Sugarcane' 'Sweet potato' 'Tapioca' 'Tobacco'\n",
            " 'Turmeric' 'Wheat' 'Bajra' 'Black pepper' 'Cardamom' 'Coriander' 'Garlic'\n",
            " 'Ginger' 'Groundnut' 'Horse-gram' 'Jowar' 'Ragi' 'Cashewnut' 'Banana'\n",
            " 'Soyabean' 'Barley' 'Khesari' 'Masoor' 'Moong(Green Gram)'\n",
            " 'Other Kharif pulses' 'Safflower' 'Sannhamp' 'Sunflower' 'Urad'\n",
            " 'Peas & beans (Pulses)' 'other oilseeds' 'Other Cereals' 'Cowpea(Lobia)'\n",
            " 'Oilseeds total' 'Guar seed' 'Other Summer Pulses' 'Moth']\n",
            "\n",
            "-------------------\n",
            "No. of Seasons: 6\n",
            "Unique Seasons:\n",
            "['Whole Year' 'Kharif' 'Rabi' 'Autumn' 'Summer' 'Winter']\n",
            "\n",
            "-------------------\n",
            "No. of States: 30\n",
            "Unique States:\n",
            "['Assam' 'Karnataka' 'Kerala' 'Meghalaya' 'West Bengal' 'Puducherry' 'Goa'\n",
            " 'Andhra Pradesh' 'Tamil Nadu' 'Odisha' 'Bihar' 'Gujarat' 'Madhya Pradesh'\n",
            " 'Maharashtra' 'Mizoram' 'Punjab' 'Uttar Pradesh' 'Haryana'\n",
            " 'Himachal Pradesh' 'Tripura' 'Nagaland' 'Chhattisgarh' 'Uttarakhand'\n",
            " 'Jharkhand' 'Delhi' 'Manipur' 'Jammu and Kashmir' 'Telangana'\n",
            " 'Arunachal Pradesh' 'Sikkim']\n",
            "\n",
            "-------------------\n"
          ]
        }
      ]
    },
    {
      "cell_type": "markdown",
      "source": [
        "> 👀 **Observation**\n",
        "\n",
        "> The `Season` & `State` columns are okay, but the `Crop` column has crops that have been _grouped_. In particular, these are `other oilseeds`, `Other Cereals`, `Oilseeds total`, `Rapeseed &Mustard`, `Other Summer Pulses`, `Other Kharif pulses`, `Peas & beans (Pulses)`, & `Other  Rabi pulses`\n",
        "\n",
        "> Since we want out model to make predictions from distinct crop types and not _grouped_ crops, we'll filter out these rows\n",
        "+ To achieve, this we'll use the [`Series.isin(values)`](https://pandas.pydata.org/docs/reference/api/pandas.Series.isin.html#pandas.Series.isin) which returns a boolean `Series` mask showing whether each element in the `Series` (column in this case) matches an element in the passed sequence of `values` exactly\n",
        "+ We can then invert the mask using the squiggley sign, `~` to filter out those specific rows\n",
        "+ Not that it has any effect, but I'll reorder the `index` of the final `DataFrame` using [`DataFrame.reset_index()`](https://pandas.pydata.org/docs/reference/api/pandas.DataFrame.reset_index.html)"
      ],
      "metadata": {
        "id": "w2vnqAY-0zSW"
      }
    },
    {
      "cell_type": "code",
      "source": [
        "# list containing grouped crop names\n",
        "grouped_crops = ['other oilseeds', 'Other Cereals', 'Oilseeds total',\n",
        "                 'Rapeseed &Mustard','Other Summer Pulses', 'Other Kharif pulses',\n",
        "                 'Peas & beans (Pulses)', 'Other  Rabi pulses']\n",
        "\n",
        "# mask to select rows that have any of the grouped crop names\n",
        "mask = crops['Crop'].isin(grouped_crops)\n",
        "\n",
        "# filter those rows out (using ~ before the mask)\n",
        "crops = crops[~mask].reset_index(drop=True)"
      ],
      "metadata": {
        "id": "bQICxU862iWa"
      },
      "execution_count": 10,
      "outputs": []
    },
    {
      "cell_type": "markdown",
      "source": [
        "### Remove outliers from all numerical columns\n",
        "> We'll do that using the helper function below, although it will significantly reduce the size of the data"
      ],
      "metadata": {
        "id": "tp0AXedumDyI"
      }
    },
    {
      "cell_type": "code",
      "source": [
        "'''\n",
        "  define a function that removes outliers for all numeric\n",
        "    in a DataFrame\n",
        "'''\n",
        "def remove_df_outliers(dataframe):\n",
        "  df = dataframe.copy()\n",
        "\n",
        "  # get numeric columns\n",
        "  numeric_columns = df.select_dtypes(include='number').columns\n",
        "\n",
        "  # loop through all numeric columns\n",
        "  for col in numeric_columns:\n",
        "    # define upper and lower limits\n",
        "    lower_limit = df[col].quantile(0.05)\n",
        "    upper_limit = df[col].quantile(0.95)\n",
        "\n",
        "    # filter dataframe based on limits\n",
        "    df = df[(df[col] >= lower_limit) & (df[col] <= upper_limit)]\n",
        "\n",
        "  return df"
      ],
      "metadata": {
        "id": "4nf19QcLmePG"
      },
      "execution_count": 11,
      "outputs": []
    },
    {
      "cell_type": "code",
      "source": [
        "# remove outliers\n",
        "crops = remove_df_outliers(crops)"
      ],
      "metadata": {
        "id": "eK8FRHAhmh_D"
      },
      "execution_count": 12,
      "outputs": []
    },
    {
      "cell_type": "markdown",
      "metadata": {
        "id": "1GWbQwIK5jTk"
      },
      "source": [
        "### Check for `Null` values\n",
        "> The dataset doesn't seem to have null values, but we can still check\n",
        "+ The [`DataFrame.isnull()`](https://pandas.pydata.org/docs/reference/api/pandas.DataFrame.isnull.html#pandas.DataFrame.isnull) return a boolean same-sized object indicating if the values are NA\n",
        "+ The `sum()` method sums all `Null` instances per column and returns a summary"
      ]
    },
    {
      "cell_type": "code",
      "execution_count": 117,
      "metadata": {
        "colab": {
          "base_uri": "https://localhost:8080/"
        },
        "id": "Cfs0achW4eIk",
        "outputId": "aede5d7d-6e72-480b-d4b6-c54d38d289dd"
      },
      "outputs": [
        {
          "output_type": "execute_result",
          "data": {
            "text/plain": [
              "{'Crop': 0,\n",
              " 'Season': 0,\n",
              " 'State': 0,\n",
              " 'Area': 0,\n",
              " 'Fertilizer': 0,\n",
              " 'Pesticide': 0,\n",
              " 'Production': 0}"
            ]
          },
          "metadata": {},
          "execution_count": 117
        }
      ],
      "source": [
        "# check for null values per column\n",
        "crops.isnull().sum().to_dict()"
      ]
    },
    {
      "cell_type": "markdown",
      "source": [
        "> 📈 **Observation**\n",
        "\n",
        "> Zero `Null` values in the columns. So we're good."
      ],
      "metadata": {
        "id": "jm5_mjKf2fp5"
      }
    },
    {
      "cell_type": "markdown",
      "metadata": {
        "id": "eWgLh51e7ghe"
      },
      "source": [
        "### Descriptive statistics of _numeric_ columns\n",
        "+ Generate a summary of dataset's descriptive statistics of _numerical_ columns using [`DataFrame.describe()`](https://pandas.pydata.org/docs/reference/api/pandas.DataFrame.describe.html) method\n",
        "+ Descriptive statistics include summary of central tendency, dispersion and shape of a dataset’s distribution"
      ]
    },
    {
      "cell_type": "code",
      "execution_count": 14,
      "metadata": {
        "colab": {
          "base_uri": "https://localhost:8080/",
          "height": 300
        },
        "id": "cStzkj6i4S1I",
        "outputId": "c93548f4-46cd-4b3a-91c0-0c0b2fcd643e"
      },
      "outputs": [
        {
          "output_type": "execute_result",
          "data": {
            "text/plain": [
              "                Area    Fertilizer     Pesticide     Production\n",
              "count   11646.000000  1.164600e+04  11646.000000   11646.000000\n",
              "mean    35895.319491  4.766527e+06   9244.855108   63131.660914\n",
              "std     55909.553871  7.459579e+06  13984.726498  116618.805341\n",
              "min       246.000000  3.131093e+04     91.000000     450.000000\n",
              "25%      2937.000000  3.929981e+05    766.785000    3429.000000\n",
              "50%     10105.500000  1.343323e+06   2623.850000   16420.000000\n",
              "75%     43603.000000  5.822430e+06  11188.362500   64203.750000\n",
              "max    368230.000000  5.191222e+07  68790.050000  753194.000000"
            ],
            "text/html": [
              "\n",
              "  <div id=\"df-9682d60d-65c5-4fa3-924f-93afda68a39e\" class=\"colab-df-container\">\n",
              "    <div>\n",
              "<style scoped>\n",
              "    .dataframe tbody tr th:only-of-type {\n",
              "        vertical-align: middle;\n",
              "    }\n",
              "\n",
              "    .dataframe tbody tr th {\n",
              "        vertical-align: top;\n",
              "    }\n",
              "\n",
              "    .dataframe thead th {\n",
              "        text-align: right;\n",
              "    }\n",
              "</style>\n",
              "<table border=\"1\" class=\"dataframe\">\n",
              "  <thead>\n",
              "    <tr style=\"text-align: right;\">\n",
              "      <th></th>\n",
              "      <th>Area</th>\n",
              "      <th>Fertilizer</th>\n",
              "      <th>Pesticide</th>\n",
              "      <th>Production</th>\n",
              "    </tr>\n",
              "  </thead>\n",
              "  <tbody>\n",
              "    <tr>\n",
              "      <th>count</th>\n",
              "      <td>11646.000000</td>\n",
              "      <td>1.164600e+04</td>\n",
              "      <td>11646.000000</td>\n",
              "      <td>11646.000000</td>\n",
              "    </tr>\n",
              "    <tr>\n",
              "      <th>mean</th>\n",
              "      <td>35895.319491</td>\n",
              "      <td>4.766527e+06</td>\n",
              "      <td>9244.855108</td>\n",
              "      <td>63131.660914</td>\n",
              "    </tr>\n",
              "    <tr>\n",
              "      <th>std</th>\n",
              "      <td>55909.553871</td>\n",
              "      <td>7.459579e+06</td>\n",
              "      <td>13984.726498</td>\n",
              "      <td>116618.805341</td>\n",
              "    </tr>\n",
              "    <tr>\n",
              "      <th>min</th>\n",
              "      <td>246.000000</td>\n",
              "      <td>3.131093e+04</td>\n",
              "      <td>91.000000</td>\n",
              "      <td>450.000000</td>\n",
              "    </tr>\n",
              "    <tr>\n",
              "      <th>25%</th>\n",
              "      <td>2937.000000</td>\n",
              "      <td>3.929981e+05</td>\n",
              "      <td>766.785000</td>\n",
              "      <td>3429.000000</td>\n",
              "    </tr>\n",
              "    <tr>\n",
              "      <th>50%</th>\n",
              "      <td>10105.500000</td>\n",
              "      <td>1.343323e+06</td>\n",
              "      <td>2623.850000</td>\n",
              "      <td>16420.000000</td>\n",
              "    </tr>\n",
              "    <tr>\n",
              "      <th>75%</th>\n",
              "      <td>43603.000000</td>\n",
              "      <td>5.822430e+06</td>\n",
              "      <td>11188.362500</td>\n",
              "      <td>64203.750000</td>\n",
              "    </tr>\n",
              "    <tr>\n",
              "      <th>max</th>\n",
              "      <td>368230.000000</td>\n",
              "      <td>5.191222e+07</td>\n",
              "      <td>68790.050000</td>\n",
              "      <td>753194.000000</td>\n",
              "    </tr>\n",
              "  </tbody>\n",
              "</table>\n",
              "</div>\n",
              "    <div class=\"colab-df-buttons\">\n",
              "\n",
              "  <div class=\"colab-df-container\">\n",
              "    <button class=\"colab-df-convert\" onclick=\"convertToInteractive('df-9682d60d-65c5-4fa3-924f-93afda68a39e')\"\n",
              "            title=\"Convert this dataframe to an interactive table.\"\n",
              "            style=\"display:none;\">\n",
              "\n",
              "  <svg xmlns=\"http://www.w3.org/2000/svg\" height=\"24px\" viewBox=\"0 -960 960 960\">\n",
              "    <path d=\"M120-120v-720h720v720H120Zm60-500h600v-160H180v160Zm220 220h160v-160H400v160Zm0 220h160v-160H400v160ZM180-400h160v-160H180v160Zm440 0h160v-160H620v160ZM180-180h160v-160H180v160Zm440 0h160v-160H620v160Z\"/>\n",
              "  </svg>\n",
              "    </button>\n",
              "\n",
              "  <style>\n",
              "    .colab-df-container {\n",
              "      display:flex;\n",
              "      gap: 12px;\n",
              "    }\n",
              "\n",
              "    .colab-df-convert {\n",
              "      background-color: #E8F0FE;\n",
              "      border: none;\n",
              "      border-radius: 50%;\n",
              "      cursor: pointer;\n",
              "      display: none;\n",
              "      fill: #1967D2;\n",
              "      height: 32px;\n",
              "      padding: 0 0 0 0;\n",
              "      width: 32px;\n",
              "    }\n",
              "\n",
              "    .colab-df-convert:hover {\n",
              "      background-color: #E2EBFA;\n",
              "      box-shadow: 0px 1px 2px rgba(60, 64, 67, 0.3), 0px 1px 3px 1px rgba(60, 64, 67, 0.15);\n",
              "      fill: #174EA6;\n",
              "    }\n",
              "\n",
              "    .colab-df-buttons div {\n",
              "      margin-bottom: 4px;\n",
              "    }\n",
              "\n",
              "    [theme=dark] .colab-df-convert {\n",
              "      background-color: #3B4455;\n",
              "      fill: #D2E3FC;\n",
              "    }\n",
              "\n",
              "    [theme=dark] .colab-df-convert:hover {\n",
              "      background-color: #434B5C;\n",
              "      box-shadow: 0px 1px 3px 1px rgba(0, 0, 0, 0.15);\n",
              "      filter: drop-shadow(0px 1px 2px rgba(0, 0, 0, 0.3));\n",
              "      fill: #FFFFFF;\n",
              "    }\n",
              "  </style>\n",
              "\n",
              "    <script>\n",
              "      const buttonEl =\n",
              "        document.querySelector('#df-9682d60d-65c5-4fa3-924f-93afda68a39e button.colab-df-convert');\n",
              "      buttonEl.style.display =\n",
              "        google.colab.kernel.accessAllowed ? 'block' : 'none';\n",
              "\n",
              "      async function convertToInteractive(key) {\n",
              "        const element = document.querySelector('#df-9682d60d-65c5-4fa3-924f-93afda68a39e');\n",
              "        const dataTable =\n",
              "          await google.colab.kernel.invokeFunction('convertToInteractive',\n",
              "                                                    [key], {});\n",
              "        if (!dataTable) return;\n",
              "\n",
              "        const docLinkHtml = 'Like what you see? Visit the ' +\n",
              "          '<a target=\"_blank\" href=https://colab.research.google.com/notebooks/data_table.ipynb>data table notebook</a>'\n",
              "          + ' to learn more about interactive tables.';\n",
              "        element.innerHTML = '';\n",
              "        dataTable['output_type'] = 'display_data';\n",
              "        await google.colab.output.renderOutput(dataTable, element);\n",
              "        const docLink = document.createElement('div');\n",
              "        docLink.innerHTML = docLinkHtml;\n",
              "        element.appendChild(docLink);\n",
              "      }\n",
              "    </script>\n",
              "  </div>\n",
              "\n",
              "\n",
              "<div id=\"df-e020c945-a57d-4b08-94a9-51f3ab9c7979\">\n",
              "  <button class=\"colab-df-quickchart\" onclick=\"quickchart('df-e020c945-a57d-4b08-94a9-51f3ab9c7979')\"\n",
              "            title=\"Suggest charts\"\n",
              "            style=\"display:none;\">\n",
              "\n",
              "<svg xmlns=\"http://www.w3.org/2000/svg\" height=\"24px\"viewBox=\"0 0 24 24\"\n",
              "     width=\"24px\">\n",
              "    <g>\n",
              "        <path d=\"M19 3H5c-1.1 0-2 .9-2 2v14c0 1.1.9 2 2 2h14c1.1 0 2-.9 2-2V5c0-1.1-.9-2-2-2zM9 17H7v-7h2v7zm4 0h-2V7h2v10zm4 0h-2v-4h2v4z\"/>\n",
              "    </g>\n",
              "</svg>\n",
              "  </button>\n",
              "\n",
              "<style>\n",
              "  .colab-df-quickchart {\n",
              "      --bg-color: #E8F0FE;\n",
              "      --fill-color: #1967D2;\n",
              "      --hover-bg-color: #E2EBFA;\n",
              "      --hover-fill-color: #174EA6;\n",
              "      --disabled-fill-color: #AAA;\n",
              "      --disabled-bg-color: #DDD;\n",
              "  }\n",
              "\n",
              "  [theme=dark] .colab-df-quickchart {\n",
              "      --bg-color: #3B4455;\n",
              "      --fill-color: #D2E3FC;\n",
              "      --hover-bg-color: #434B5C;\n",
              "      --hover-fill-color: #FFFFFF;\n",
              "      --disabled-bg-color: #3B4455;\n",
              "      --disabled-fill-color: #666;\n",
              "  }\n",
              "\n",
              "  .colab-df-quickchart {\n",
              "    background-color: var(--bg-color);\n",
              "    border: none;\n",
              "    border-radius: 50%;\n",
              "    cursor: pointer;\n",
              "    display: none;\n",
              "    fill: var(--fill-color);\n",
              "    height: 32px;\n",
              "    padding: 0;\n",
              "    width: 32px;\n",
              "  }\n",
              "\n",
              "  .colab-df-quickchart:hover {\n",
              "    background-color: var(--hover-bg-color);\n",
              "    box-shadow: 0 1px 2px rgba(60, 64, 67, 0.3), 0 1px 3px 1px rgba(60, 64, 67, 0.15);\n",
              "    fill: var(--button-hover-fill-color);\n",
              "  }\n",
              "\n",
              "  .colab-df-quickchart-complete:disabled,\n",
              "  .colab-df-quickchart-complete:disabled:hover {\n",
              "    background-color: var(--disabled-bg-color);\n",
              "    fill: var(--disabled-fill-color);\n",
              "    box-shadow: none;\n",
              "  }\n",
              "\n",
              "  .colab-df-spinner {\n",
              "    border: 2px solid var(--fill-color);\n",
              "    border-color: transparent;\n",
              "    border-bottom-color: var(--fill-color);\n",
              "    animation:\n",
              "      spin 1s steps(1) infinite;\n",
              "  }\n",
              "\n",
              "  @keyframes spin {\n",
              "    0% {\n",
              "      border-color: transparent;\n",
              "      border-bottom-color: var(--fill-color);\n",
              "      border-left-color: var(--fill-color);\n",
              "    }\n",
              "    20% {\n",
              "      border-color: transparent;\n",
              "      border-left-color: var(--fill-color);\n",
              "      border-top-color: var(--fill-color);\n",
              "    }\n",
              "    30% {\n",
              "      border-color: transparent;\n",
              "      border-left-color: var(--fill-color);\n",
              "      border-top-color: var(--fill-color);\n",
              "      border-right-color: var(--fill-color);\n",
              "    }\n",
              "    40% {\n",
              "      border-color: transparent;\n",
              "      border-right-color: var(--fill-color);\n",
              "      border-top-color: var(--fill-color);\n",
              "    }\n",
              "    60% {\n",
              "      border-color: transparent;\n",
              "      border-right-color: var(--fill-color);\n",
              "    }\n",
              "    80% {\n",
              "      border-color: transparent;\n",
              "      border-right-color: var(--fill-color);\n",
              "      border-bottom-color: var(--fill-color);\n",
              "    }\n",
              "    90% {\n",
              "      border-color: transparent;\n",
              "      border-bottom-color: var(--fill-color);\n",
              "    }\n",
              "  }\n",
              "</style>\n",
              "\n",
              "  <script>\n",
              "    async function quickchart(key) {\n",
              "      const quickchartButtonEl =\n",
              "        document.querySelector('#' + key + ' button');\n",
              "      quickchartButtonEl.disabled = true;  // To prevent multiple clicks.\n",
              "      quickchartButtonEl.classList.add('colab-df-spinner');\n",
              "      try {\n",
              "        const charts = await google.colab.kernel.invokeFunction(\n",
              "            'suggestCharts', [key], {});\n",
              "      } catch (error) {\n",
              "        console.error('Error during call to suggestCharts:', error);\n",
              "      }\n",
              "      quickchartButtonEl.classList.remove('colab-df-spinner');\n",
              "      quickchartButtonEl.classList.add('colab-df-quickchart-complete');\n",
              "    }\n",
              "    (() => {\n",
              "      let quickchartButtonEl =\n",
              "        document.querySelector('#df-e020c945-a57d-4b08-94a9-51f3ab9c7979 button');\n",
              "      quickchartButtonEl.style.display =\n",
              "        google.colab.kernel.accessAllowed ? 'block' : 'none';\n",
              "    })();\n",
              "  </script>\n",
              "</div>\n",
              "\n",
              "    </div>\n",
              "  </div>\n"
            ],
            "application/vnd.google.colaboratory.intrinsic+json": {
              "type": "dataframe",
              "summary": "{\n  \"name\": \"crops\",\n  \"rows\": 8,\n  \"fields\": [\n    {\n      \"column\": \"Area\",\n      \"properties\": {\n        \"dtype\": \"number\",\n        \"std\": 123769.22614311943,\n        \"min\": 246.0,\n        \"max\": 368230.0,\n        \"num_unique_values\": 8,\n        \"samples\": [\n          35895.319491155766,\n          10105.5,\n          11646.0\n        ],\n        \"semantic_type\": \"\",\n        \"description\": \"\"\n      }\n    },\n    {\n      \"column\": \"Fertilizer\",\n      \"properties\": {\n        \"dtype\": \"number\",\n        \"std\": 17589669.784286994,\n        \"min\": 11646.0,\n        \"max\": 51912219.84,\n        \"num_unique_values\": 8,\n        \"samples\": [\n          4766527.463806019,\n          1343322.69,\n          11646.0\n        ],\n        \"semantic_type\": \"\",\n        \"description\": \"\"\n      }\n    },\n    {\n      \"column\": \"Pesticide\",\n      \"properties\": {\n        \"dtype\": \"number\",\n        \"std\": 22459.440780439556,\n        \"min\": 91.0,\n        \"max\": 68790.05,\n        \"num_unique_values\": 8,\n        \"samples\": [\n          9244.855108488751,\n          2623.8500000000004,\n          11646.0\n        ],\n        \"semantic_type\": \"\",\n        \"description\": \"\"\n      }\n    },\n    {\n      \"column\": \"Production\",\n      \"properties\": {\n        \"dtype\": \"number\",\n        \"std\": 255523.82494684693,\n        \"min\": 450.0,\n        \"max\": 753194.0,\n        \"num_unique_values\": 8,\n        \"samples\": [\n          63131.66091361841,\n          16420.0,\n          11646.0\n        ],\n        \"semantic_type\": \"\",\n        \"description\": \"\"\n      }\n    }\n  ]\n}"
            }
          },
          "metadata": {},
          "execution_count": 14
        }
      ],
      "source": [
        "# generate a summary of dataset's descriptive statistics\n",
        "crops.describe()"
      ]
    },
    {
      "cell_type": "code",
      "source": [
        "# one last look at the final dataframe info\n",
        "crops.info()"
      ],
      "metadata": {
        "colab": {
          "base_uri": "https://localhost:8080/"
        },
        "id": "X_o-3UfF3U1c",
        "outputId": "543ee212-f00a-4da5-8b87-f2624cf4fc14"
      },
      "execution_count": 15,
      "outputs": [
        {
          "output_type": "stream",
          "name": "stdout",
          "text": [
            "<class 'pandas.core.frame.DataFrame'>\n",
            "Index: 11646 entries, 0 to 17740\n",
            "Data columns (total 7 columns):\n",
            " #   Column      Non-Null Count  Dtype  \n",
            "---  ------      --------------  -----  \n",
            " 0   Crop        11646 non-null  object \n",
            " 1   Season      11646 non-null  object \n",
            " 2   State       11646 non-null  object \n",
            " 3   Area        11646 non-null  float64\n",
            " 4   Fertilizer  11646 non-null  float64\n",
            " 5   Pesticide   11646 non-null  float64\n",
            " 6   Production  11646 non-null  int64  \n",
            "dtypes: float64(3), int64(1), object(3)\n",
            "memory usage: 727.9+ KB\n"
          ]
        }
      ]
    },
    {
      "cell_type": "markdown",
      "metadata": {
        "id": "Tss0mD-Twoi3"
      },
      "source": [
        "> 💡 **So far**  \n",
        "+ The dataset has `11646` rows and `7` columns (`6` of which are features), and has no missing values\n",
        "+ _Categorical_ features are `Crop`, `Season`and `State` whereas numeric columns are `Area`,\t`Fertilizer` and `Pesticide`"
      ]
    },
    {
      "cell_type": "markdown",
      "source": [
        "## Prepare the data for modelling\n",
        "+ Split the data into features _(x values)_ and target _(y value)_\n",
        "+ Split the data into training and testing sets"
      ],
      "metadata": {
        "id": "zesivQUpoE5S"
      }
    },
    {
      "cell_type": "markdown",
      "source": [
        "### Features & target\n",
        "+ The [`DataFrame.drop()`](https://pandas.pydata.org/docs/reference/api/pandas.DataFrame.drop.html#pandas-dataframe-drop) method is used to drop specified labels from rows or columns."
      ],
      "metadata": {
        "id": "b8656vqNqap1"
      }
    },
    {
      "cell_type": "code",
      "source": [
        "# label\n",
        "y = crops['Production'].values\n",
        "\n",
        "# features\n",
        "X = crops.drop(columns='Production').values"
      ],
      "metadata": {
        "id": "5UbJOVBspMqU"
      },
      "execution_count": 16,
      "outputs": []
    },
    {
      "cell_type": "code",
      "source": [
        "# shape of X & y\n",
        "X.shape, y.shape"
      ],
      "metadata": {
        "colab": {
          "base_uri": "https://localhost:8080/"
        },
        "id": "sCfugDS1q87p",
        "outputId": "be4ca60d-481f-4dbe-8b08-abadf447fe24"
      },
      "execution_count": 17,
      "outputs": [
        {
          "output_type": "execute_result",
          "data": {
            "text/plain": [
              "((11646, 6), (11646,))"
            ]
          },
          "metadata": {},
          "execution_count": 17
        }
      ]
    },
    {
      "cell_type": "markdown",
      "source": [
        "### Training and testing sets\n",
        "+ [`sklearn`](https://scikit-learn.org/stable/index.html) [`train_test_split`](https://scikit-learn.org/stable/modules/generated/sklearn.model_selection.train_test_split.html) method splits matrices into random train and test subsets"
      ],
      "metadata": {
        "id": "KCVnVF0OrKQk"
      }
    },
    {
      "cell_type": "code",
      "source": [
        "from sklearn.model_selection import train_test_split\n",
        "\n",
        "X_train, X_test, y_train, y_test = train_test_split(X, y,\n",
        "                    test_size=0.3, random_state=42)"
      ],
      "metadata": {
        "id": "kO_XIUxKrJt9"
      },
      "execution_count": 18,
      "outputs": []
    },
    {
      "cell_type": "code",
      "source": [
        "# shape of training set\n",
        "X_train.shape, y_train.shape"
      ],
      "metadata": {
        "colab": {
          "base_uri": "https://localhost:8080/"
        },
        "id": "V-_nvcT3tdQH",
        "outputId": "514e9e2e-8c72-4296-bb6b-59981642a0f8"
      },
      "execution_count": 19,
      "outputs": [
        {
          "output_type": "execute_result",
          "data": {
            "text/plain": [
              "((8152, 6), (8152,))"
            ]
          },
          "metadata": {},
          "execution_count": 19
        }
      ]
    },
    {
      "cell_type": "code",
      "source": [
        "# shape of testing set\n",
        "X_test.shape, y_test.shape"
      ],
      "metadata": {
        "colab": {
          "base_uri": "https://localhost:8080/"
        },
        "id": "tc6t-lg5tzG4",
        "outputId": "4b93d1be-c666-48ca-f1cf-25bbe9616ed7"
      },
      "execution_count": 20,
      "outputs": [
        {
          "output_type": "execute_result",
          "data": {
            "text/plain": [
              "((3494, 6), (3494,))"
            ]
          },
          "metadata": {},
          "execution_count": 20
        }
      ]
    },
    {
      "cell_type": "markdown",
      "source": [
        "## Data preprocessing `pipeline`\n",
        "> Here, we'll make a data pre-processing pipeline using [`scikit-learn's`](https://scikit-learn.org/stable/index.html) [`make_pipeline`](https://scikit-learn.org/stable/modules/generated/sklearn.pipeline.make_pipeline.html) and [`make_colum_transformer`](https://scikit-learn.org/stable/modules/generated/sklearn.compose.make_column_transformer.html)\n",
        "+ Other classes we'll use are [`SimpleImputer`](https://scikit-learn.org/stable/modules/generated/sklearn.impute.SimpleImputer.html#simpleimputer) to handle missing values, [`StandardScaler`](https://scikit-learn.org/stable/modules/generated/sklearn.preprocessing.StandardScaler.html) to _scale_ numerical features and [`OneHotEncoder`](https://scikit-learn.org/stable/modules/generated/sklearn.preprocessing.OneHotEncoder.html) to _encode_ categorical features"
      ],
      "metadata": {
        "id": "R89BYcEQweOG"
      }
    },
    {
      "cell_type": "code",
      "source": [
        "# imports necessary classes\n",
        "from sklearn.pipeline import make_pipeline\n",
        "from sklearn.compose import make_column_transformer\n",
        "from sklearn.preprocessing import StandardScaler\n",
        "from sklearn.impute import SimpleImputer\n",
        "from sklearn.preprocessing import OneHotEncoder\n",
        "\n",
        "from sklearn.preprocessing import PowerTransformer"
      ],
      "metadata": {
        "id": "58CMJ13TlG6B"
      },
      "execution_count": 21,
      "outputs": []
    },
    {
      "cell_type": "code",
      "source": [
        "# numeric transformer\n",
        "num_transformer = make_pipeline(\n",
        "    # transformers\n",
        "    SimpleImputer(strategy='median'), # 1. handle missing values if any\n",
        "    PowerTransformer(), # transform into Gaussian like ditribution\n",
        "    StandardScaler() # 3. scale\n",
        ")\n",
        "\n",
        "# categorical transformer\n",
        "cat_transformer = make_pipeline(\n",
        "    # transformers\n",
        "    SimpleImputer(strategy='most_frequent'),\n",
        "    OneHotEncoder(handle_unknown='ignore')\n",
        ")\n",
        "\n",
        "# wrap the above transformers into a preprocessor\n",
        "preprocessor = make_column_transformer(\n",
        "    #(transformer, columns)\n",
        "    (num_transformer, num_cols_indices),\n",
        "    (cat_transformer, cat_cols_indices)\n",
        ")"
      ],
      "metadata": {
        "id": "1hye4apnlTix"
      },
      "execution_count": 22,
      "outputs": []
    },
    {
      "cell_type": "markdown",
      "source": [
        "## Hyperparameter Optimization with [`Optuna`](https://optuna.readthedocs.io/en/stable/index.html)  \n",
        "> 📝 **Note**  \n",
        "> [`Optuna`](https://optuna.readthedocs.io/en/stable/index.html) is an automatic hyperparameter optimization software framework, particularly designed for machine learning.\n",
        "+ I covered `Optuna` in a previous repository linked [`here`](https://github.com/Martinmbiro/Train-and-evaluate-regression-models)"
      ],
      "metadata": {
        "id": "s5cW8U-ypAwY"
      }
    },
    {
      "cell_type": "markdown",
      "source": [
        "> 🔤 **Optuna Optimization Process**  \n",
        "+ Define an `objective` function (within which you invoke suggest methods of a [`Trial`](https://optuna.readthedocs.io/en/stable/reference/trial.html) object to generate hyperparameters)\n",
        "+ Create a [`study`](https://optuna.readthedocs.io/en/stable/reference/generated/optuna.study.Study.html#optuna.study.Study) and specify the `direction` of optimization\n",
        "+ `optimize` the `objective` function by specifying the number of [`trials`](https://optuna.readthedocs.io/en/stable/reference/trial.html)"
      ],
      "metadata": {
        "id": "2v7N1EAUpQ06"
      }
    },
    {
      "cell_type": "markdown",
      "source": [
        "#### Install and import libraries"
      ],
      "metadata": {
        "id": "ZSXvlhEEpsnx"
      }
    },
    {
      "cell_type": "code",
      "source": [
        "# install optuna, xgboost, optuna-integration\n",
        "!pip install optuna xgboost optuna-integration"
      ],
      "metadata": {
        "id": "nYeddOvEpuCN"
      },
      "execution_count": null,
      "outputs": []
    },
    {
      "cell_type": "code",
      "source": [
        "import warnings\n",
        "# import optuna\n",
        "import optuna\n",
        "# adjust verbosity of optuna study:\n",
        "optuna.logging.set_verbosity(optuna.logging.WARNING)\n",
        "# catboost callback to prune unpromising trials\n",
        "from optuna.integration import XGBoostPruningCallback\n",
        "# suppress experimental warnings for CatBoostPruningCallaback\n",
        "warnings.filterwarnings('ignore',\n",
        "                        category=optuna.exceptions.ExperimentalWarning)\n",
        "\n",
        "# import XGBRegressor\n",
        "from xgboost import XGBRegressor\n",
        "\n",
        "# kfold, cross_val_score\n",
        "from sklearn.model_selection import KFold, cross_val_score\n",
        "\n",
        "# metrics\n",
        "from sklearn.pipeline import Pipeline\n",
        "\n",
        "# import RandomForestRegressor\n",
        "from sklearn.ensemble import RandomForestRegressor"
      ],
      "metadata": {
        "id": "DfgIHLt7qEom"
      },
      "execution_count": 24,
      "outputs": []
    },
    {
      "cell_type": "code",
      "source": [
        "# preprocessed X_test\n",
        "X_test_processed = preprocessor.fit_transform(X_test)\n",
        "# preprocessed X_train\n",
        "X_train_processed = preprocessor.fit_transform(X_train)"
      ],
      "metadata": {
        "id": "E7-745_XtT5u"
      },
      "execution_count": 25,
      "outputs": []
    },
    {
      "cell_type": "markdown",
      "source": [
        "### Tuning `XGBRegressor`"
      ],
      "metadata": {
        "id": "3ST_hphPog5h"
      }
    },
    {
      "cell_type": "markdown",
      "source": [
        "#### Define `objective` function\n",
        "+ List of `xgboost` parametes to be tuned can be found on their documentation [`here`](https://xgboost.readthedocs.io/en/stable/parameter.html)\n",
        "+ A brief guide on parameter tuning with `xgboost` can be found in their documentation [`here`](https://xgboost.readthedocs.io/en/stable/tutorials/param_tuning.html)"
      ],
      "metadata": {
        "id": "mWU_M4BMqcFk"
      }
    },
    {
      "cell_type": "code",
      "source": [
        "def objective(trial):\n",
        "  params = {\n",
        "    'n_estimators': 1000,\n",
        "    'early_stopping_rounds': 20,\n",
        "    'eval_metric': 'mae',\n",
        "    'learning_rate': trial.suggest_float('learning_rate', 1e-3, 0.3, log=True),\n",
        "    'reg_lambda': trial.suggest_int('reg_lambda', 3, 10),\n",
        "    'max_depth': trial.suggest_int('max_depth', 4, 10),\n",
        "    'min_child_weight': trial.suggest_int('min_child_weight', 5, 20),\n",
        "    'subsample': trial.suggest_float('subsample', 0.5, 1.0),\n",
        "    'colsample_bytree': trial.suggest_float('colsample_bytree', 0.5, 1.0)\n",
        "  }\n",
        "\n",
        "  # callback\n",
        "  call = XGBoostPruningCallback(trial, 'validation_0-mae')\n",
        "\n",
        "  # xgbregressor with params\n",
        "  xgb_pipe = Pipeline(steps=[\n",
        "      #(name of step, estimator)\n",
        "      ('preprocess', preprocessor),\n",
        "      ('xgbr', XGBRegressor(**params,\n",
        "                            callbacks=[call],\n",
        "                            random_state=42))\n",
        "  ])\n",
        "\n",
        "  # KFold object\n",
        "  kf = KFold(n_splits=3, shuffle=True, random_state=42)\n",
        "\n",
        "  pass_to_fit = {\n",
        "      'xgbr__eval_set': [(X_test_processed, y_test)],\n",
        "      'xgbr__verbose': False,\n",
        "  }\n",
        "\n",
        "  '''\n",
        "    Perform cross validation with the parameters chosen, then return\n",
        "      the list of metrics gotten from cross validation'''\n",
        "  scores = cross_val_score(estimator=xgb_pipe, X=X_train, y=y_train,\n",
        "                           scoring='neg_mean_absolute_error',\n",
        "                           cv=kf, n_jobs=-1, verbose=0,\n",
        "                           fit_params=pass_to_fit)\n",
        "\n",
        "  return scores.mean()"
      ],
      "metadata": {
        "id": "7ZYuf0b5rJzU"
      },
      "execution_count": null,
      "outputs": []
    },
    {
      "cell_type": "markdown",
      "source": [
        "#### Create [`study`](https://optuna.readthedocs.io/en/stable/reference/generated/optuna.study.Study.html#optuna.study.Study) and `optimize` objective function"
      ],
      "metadata": {
        "id": "AUFm9hyekQgX"
      }
    },
    {
      "cell_type": "markdown",
      "source": [
        "##### Create [`study`](https://optuna.readthedocs.io/en/stable/reference/generated/optuna.study.Study.html#optuna.study.Study)\n",
        "+ By calling [`optuna.create_study`](https://optuna.readthedocs.io/en/stable/reference/generated/optuna.create_study.html#optuna.create_study)"
      ],
      "metadata": {
        "id": "EfaqVhLllPa0"
      }
    },
    {
      "cell_type": "code",
      "source": [
        "'''\n",
        "  create a study, and since a lower Root Mean Squared Error (rmse) is better,\n",
        "    set direction to minimize\n",
        "'''\n",
        "\n",
        "study = optuna.create_study(direction='maximize')"
      ],
      "metadata": {
        "id": "qAZvF6JWl3zZ"
      },
      "execution_count": null,
      "outputs": []
    },
    {
      "cell_type": "markdown",
      "source": [
        "##### Optimize `objective` function\n",
        "+ Optimize an `objective` function by calling [`Study.optimize`](https://optuna.readthedocs.io/en/stable/reference/generated/optuna.study.Study.html#optuna.study.Study.optimize) function"
      ],
      "metadata": {
        "id": "mKZFvg_mll5S"
      }
    },
    {
      "cell_type": "code",
      "source": [
        "%%time\n",
        "study.optimize(objective, n_trials=10)"
      ],
      "metadata": {
        "colab": {
          "base_uri": "https://localhost:8080/"
        },
        "id": "leOVUjNLm7oi",
        "outputId": "0bcf585c-0906-491f-a6bd-fcd5949c1ed2"
      },
      "execution_count": null,
      "outputs": [
        {
          "output_type": "stream",
          "name": "stdout",
          "text": [
            "CPU times: user 4.09 s, sys: 647 ms, total: 4.74 s\n",
            "Wall time: 7min 10s\n"
          ]
        }
      ]
    },
    {
      "cell_type": "code",
      "source": [
        "# return parameters of best study\n",
        "best_xgb = study.best_params # dict\n",
        "\n",
        "# print\n",
        "print(f'Best mae score: {study.best_value}\\n\\nBest Parameters:')\n",
        "print('----------------')\n",
        "\n",
        "for key, val in best_xgb.items():\n",
        "  print(f'{key} : {val}')"
      ],
      "metadata": {
        "colab": {
          "base_uri": "https://localhost:8080/"
        },
        "id": "B6daAe4DoCyV",
        "outputId": "f1e248cf-fb80-43fa-cd5f-07e84cf74a27"
      },
      "execution_count": null,
      "outputs": [
        {
          "output_type": "stream",
          "name": "stdout",
          "text": [
            "Best mae score: -16726.098574822357\n",
            "\n",
            "Best Parameters:\n",
            "----------------\n",
            "learning_rate : 0.053667368542774145\n",
            "reg_lambda : 4\n",
            "max_depth : 5\n",
            "min_child_weight : 6\n",
            "subsample : 0.9114954045350141\n",
            "colsample_bytree : 0.5005621288079357\n"
          ]
        }
      ]
    },
    {
      "cell_type": "markdown",
      "source": [
        "### Tuning [`RandomForestRegressor`](https://scikit-learn.org/stable/modules/generated/sklearn.ensemble.RandomForestRegressor.html#randomforestregressor)"
      ],
      "metadata": {
        "id": "7smPFtu7pj-f"
      }
    },
    {
      "cell_type": "code",
      "source": [
        "# define objective function\n",
        "def objective(trial):\n",
        "  params = {\n",
        "    'n_estimators':500,\n",
        "    'random_state': 42,\n",
        "    #'max_features': trial.suggest_float('max_features', 0.5, 1.0),\n",
        "    'max_depth': trial.suggest_int('max_depth', 1, 10),\n",
        "    'min_samples_split': trial.suggest_int('min_samples_split', 2, 20),\n",
        "    'min_samples_leaf': trial.suggest_int('min_samples_leaf', 1, 20),\n",
        "  }\n",
        "\n",
        "  # pipeline + model\n",
        "  estimator = Pipeline(steps=[\n",
        "      # (name, transformer)\n",
        "      ('preprocessor', preprocessor),\n",
        "      ('rfr', RandomForestRegressor(**params))\n",
        "  ])\n",
        "\n",
        "  # KFold object\n",
        "  kf = KFold(shuffle=True, n_splits=3, random_state=42)\n",
        "\n",
        "  scores = cross_val_score(estimator, X=X_train, y=y_train,\n",
        "                          scoring='neg_mean_absolute_error',\n",
        "                          cv=kf, n_jobs=-1, verbose=0)\n",
        "\n",
        "  return scores.mean()"
      ],
      "metadata": {
        "id": "BslykIPrptYi"
      },
      "execution_count": null,
      "outputs": []
    },
    {
      "cell_type": "code",
      "source": [
        "%%time\n",
        "# create study and optimize objective function\n",
        "study = optuna.create_study(direction='maximize')\n",
        "study.optimize(objective, n_trials=10)\n",
        "\n",
        "# get best parameters\n",
        "best_rf = study.best_params # dict\n",
        "\n",
        "# print\n",
        "print(f'Best mae score: {study.best_value}\\n\\nBest Parameters:')\n",
        "print('----------------')\n",
        "\n",
        "for key, val in best_rf.items():\n",
        "  print(f'{key} : {val}')"
      ],
      "metadata": {
        "colab": {
          "base_uri": "https://localhost:8080/"
        },
        "id": "NGn58NSPpxra",
        "outputId": "053464f7-81fc-4a37-dc4e-bb2e5ca25c01"
      },
      "execution_count": null,
      "outputs": [
        {
          "output_type": "stream",
          "name": "stdout",
          "text": [
            "Best mae score: -25730.990184934595\n",
            "\n",
            "Best Parameters:\n",
            "----------------\n",
            "max_depth : 10\n",
            "min_samples_split : 11\n",
            "min_samples_leaf : 1\n",
            "CPU times: user 11 s, sys: 1.77 s, total: 12.8 s\n",
            "Wall time: 15min 29s\n"
          ]
        }
      ]
    },
    {
      "cell_type": "markdown",
      "source": [
        "## Modelling\n",
        "> We'll be using the [`XGBRegressor`](https://xgboost.readthedocs.io/en/stable/python/python_api.html#xgboost.XGBRegressor) from the [`xgboost`](https://xgboost.readthedocs.io/en/stable/index.html) library and [`RandomForestRegressor`](https://scikit-learn.org/stable/modules/generated/sklearn.ensemble.RandomForestRegressor.html#randomforestregressor) from the [`scikit-learn`](https://scikit-learn.org/stable/index.html) library\n"
      ],
      "metadata": {
        "id": "Ng9lANEmngiE"
      }
    },
    {
      "cell_type": "markdown",
      "source": [
        "#### Training tuned `XGBRegressor`\n",
        "> We'll set an overfitting detector using `XGBRegressor` `early_stopping_rounds` & `eval_metric` parameters, then we'll pass an `eval_set` to the `fit` method during training"
      ],
      "metadata": {
        "id": "Vj7WUd3xq2Lo"
      }
    },
    {
      "cell_type": "code",
      "source": [
        "%%time\n",
        "# pipeline with preprocessor & xgbregressor + tuned parameters\n",
        "xgbr_model = Pipeline(steps=[\n",
        "    #(name of step, estimator)\n",
        "    ('preprocessor', preprocessor),\n",
        "    ('xgbr', XGBRegressor(**best_xgb,\n",
        "                  random_state=42,\n",
        "                  n_estimators=5500,\n",
        "                  early_stopping_rounds=100,\n",
        "                  eval_metric='mae'))\n",
        "])\n",
        "\n",
        "# train the model\n",
        "xgbr_model.fit(X_train, y_train,\n",
        "               xgbr__verbose=300,\n",
        "               xgbr__eval_set=[(X_train_processed, y_train), # training set\n",
        "                                (X_test_processed, y_test)]) # evaluation set\n",
        "\n",
        "print('\\n')\n",
        "print(f'Best Iteration: {xgbr_model.named_steps[\"xgbr\"].best_iteration}')\n",
        "print(f'Best Score: {xgbr_model.named_steps[\"xgbr\"].best_score}')"
      ],
      "metadata": {
        "colab": {
          "base_uri": "https://localhost:8080/"
        },
        "id": "3SIhhhGQnnWM",
        "outputId": "9b1dccfe-78c7-4678-86e6-584987421b51"
      },
      "execution_count": null,
      "outputs": [
        {
          "output_type": "stream",
          "name": "stdout",
          "text": [
            "[0]\tvalidation_0-mae:71035.77533\tvalidation_1-mae:69810.22139\n",
            "[300]\tvalidation_0-mae:16488.89563\tvalidation_1-mae:19053.49376\n",
            "[600]\tvalidation_0-mae:12566.21576\tvalidation_1-mae:16109.09386\n",
            "[900]\tvalidation_0-mae:10834.58372\tvalidation_1-mae:14990.06500\n",
            "[1200]\tvalidation_0-mae:9773.25831\tvalidation_1-mae:14466.62436\n",
            "[1500]\tvalidation_0-mae:8967.12191\tvalidation_1-mae:14056.22824\n",
            "[1800]\tvalidation_0-mae:8371.91227\tvalidation_1-mae:13895.02490\n",
            "[2100]\tvalidation_0-mae:7900.52866\tvalidation_1-mae:13788.68469\n",
            "[2400]\tvalidation_0-mae:7463.65697\tvalidation_1-mae:13689.93363\n",
            "[2700]\tvalidation_0-mae:7081.36394\tvalidation_1-mae:13610.95899\n",
            "[3000]\tvalidation_0-mae:6741.74371\tvalidation_1-mae:13533.64422\n",
            "[3300]\tvalidation_0-mae:6451.68133\tvalidation_1-mae:13489.82371\n",
            "[3477]\tvalidation_0-mae:6286.45464\tvalidation_1-mae:13483.20701\n",
            "\n",
            "\n",
            "Best Iteration: 3378\n",
            "Best Score: 13469.73272188882\n",
            "CPU times: user 8min 1s, sys: 787 ms, total: 8min 1s\n",
            "Wall time: 4min 49s\n"
          ]
        }
      ]
    },
    {
      "cell_type": "markdown",
      "source": [
        "##### Plot the training and evaluation scores\n",
        "> We can access the evaluation results from the trained model using the [`XGBRegressor`](https://xgboost.readthedocs.io/en/stable/python/python_api.html#xgboost.XGBRegressor) method, `evals_result()`\n",
        "+ Plot training and evaluation scores against number of boosted trees / interations"
      ],
      "metadata": {
        "id": "c2oLqAZfsxAP"
      }
    },
    {
      "cell_type": "code",
      "source": [
        "# get the keys from the evaluation results dictionary\n",
        "xgbr_model.named_steps['xgbr'].evals_result().keys()"
      ],
      "metadata": {
        "colab": {
          "base_uri": "https://localhost:8080/"
        },
        "id": "14_Ujz2Ds4YJ",
        "outputId": "35e732c3-4746-4281-e9f3-e1d33e04b611"
      },
      "execution_count": null,
      "outputs": [
        {
          "output_type": "execute_result",
          "data": {
            "text/plain": [
              "dict_keys(['validation_0', 'validation_1'])"
            ]
          },
          "metadata": {},
          "execution_count": 157
        }
      ]
    },
    {
      "cell_type": "code",
      "source": [
        "# test & eval scores\n",
        "training_scores = xgbr_model.named_steps['xgbr']\\\n",
        "                        .evals_result()['validation_0']['mae']\n",
        "\n",
        "eval_scores = xgbr_model.named_steps['xgbr']\\\n",
        "                        .evals_result()['validation_1']['mae']"
      ],
      "metadata": {
        "id": "TGh7Yf4nt9TF"
      },
      "execution_count": null,
      "outputs": []
    },
    {
      "cell_type": "code",
      "source": [
        "# specify Axes\n",
        "_, ax = plt.subplots(figsize=(7.5,3), layout='constrained')\n",
        "\n",
        "# plot\n",
        "ax.plot(training_scores, linewidth=1.7, label='Training scores', color='#0047ab')\n",
        "ax.plot(eval_scores, linewidth=1.7, label='Evaluation scores', color='#990000')\n",
        "\n",
        "# title, axis labels, grid, legend\n",
        "ax.set_title('Training and Evaluation Scores vs No. Iterations',\n",
        "             fontsize=11.5)\n",
        "ax.set_ylabel('Mean Absolute Error (mae)', weight='black')\n",
        "ax.set_xlabel('Number of Iterations', weight='black')\n",
        "\n",
        "# plot a vertical line at the point where maximum trees were achieved\n",
        "max_trees = xgbr_model.named_steps['xgbr'].best_iteration\n",
        "ax.axvline(x=max_trees, color='#013220',\n",
        "          linestyle='--', linewidth=1,\n",
        "           label=f'Max. Trees ({format(max_trees, \",\")})')\n",
        "\n",
        "# ticks, grid\n",
        "ax.grid(axis='both', alpha=0.2)\n",
        "ax.yaxis.set_major_formatter(matplotlib.ticker\\\n",
        "        .FuncFormatter(lambda x, p: format(int(x), ',')))\n",
        "ax.xaxis.set_major_formatter(matplotlib.ticker\\\n",
        "        .FuncFormatter(lambda x, p: format(int(x), ',')))\n",
        "ax.tick_params(axis='both', labelsize=9)\n",
        "ax.set_ylim(0, 35000)\n",
        "\n",
        "# legend\n",
        "ax.legend(fontsize=9, fancybox=False, loc='upper left',\n",
        "          bbox_to_anchor=(1, 1.02))\n",
        "\n",
        "plt.show()"
      ],
      "metadata": {
        "colab": {
          "base_uri": "https://localhost:8080/",
          "height": 328
        },
        "id": "nEhtfgcLuW0h",
        "outputId": "2ec42ac7-615a-47cd-c438-b032e777996d"
      },
      "execution_count": null,
      "outputs": [
        {
          "output_type": "display_data",
          "data": {
            "text/plain": [
              "<Figure size 750x300 with 1 Axes>"
            ],
            "image/png": "[encoded data removed]"
          },
          "metadata": {}
        }
      ]
    },
    {
      "cell_type": "markdown",
      "source": [
        "> 📈 **Insight**  \n",
        "\n",
        "> Thanks to the `early_stopping` mechanism, the model stopped training at the point of _convergence_ (3,378 trees) where further training would have plateaued the _eval_metric_ `(mean_absolute_error)` or made it worse"
      ],
      "metadata": {
        "id": "Nxg0KElHlzQQ"
      }
    },
    {
      "cell_type": "markdown",
      "source": [
        "### Training `XGBRegressor` model with default parameters"
      ],
      "metadata": {
        "id": "HokfdcotigR-"
      }
    },
    {
      "cell_type": "code",
      "source": [
        "%%time\n",
        "# pipeline + vanilla XGBRegressor\n",
        "xgb_model_vanilla = Pipeline(steps=[\n",
        "    ('preprocess', preprocessor),\n",
        "    ('xgbr', XGBRegressor(n_estimators=1000,\n",
        "                  random_state=72,\n",
        "                  early_stopping_rounds=100,\n",
        "                  eval_metric='mae'))\n",
        "])\n",
        "\n",
        "# train the model\n",
        "xgb_model_vanilla.fit(X_train, y_train,\n",
        "               xgbr__verbose=100,\n",
        "               xgbr__eval_set=[(X_train_processed, y_train), # training set\n",
        "                                (X_test_processed, y_test)]) # evaluation set\n",
        "\n",
        "print('\\n')"
      ],
      "metadata": {
        "colab": {
          "base_uri": "https://localhost:8080/"
        },
        "id": "2Q1VR83rjPfQ",
        "outputId": "ca53fbad-b17f-4b06-a515-e648caccda8f"
      },
      "execution_count": 26,
      "outputs": [
        {
          "output_type": "stream",
          "name": "stdout",
          "text": [
            "[0]\tvalidation_0-mae:58475.48379\tvalidation_1-mae:57685.66010\n",
            "[100]\tvalidation_0-mae:7916.74544\tvalidation_1-mae:13677.49103\n",
            "[200]\tvalidation_0-mae:4876.00857\tvalidation_1-mae:12909.83049\n",
            "[300]\tvalidation_0-mae:3373.45099\tvalidation_1-mae:12609.53812\n",
            "[400]\tvalidation_0-mae:2459.03352\tvalidation_1-mae:12479.36576\n",
            "[500]\tvalidation_0-mae:1909.90605\tvalidation_1-mae:12467.95605\n",
            "[540]\tvalidation_0-mae:1708.36314\tvalidation_1-mae:12468.50625\n",
            "\n",
            "\n",
            "CPU times: user 1min 38s, sys: 252 ms, total: 1min 38s\n",
            "Wall time: 1min 39s\n"
          ]
        }
      ]
    },
    {
      "cell_type": "markdown",
      "source": [
        "##### Plot the training and evaluation scores\n"
      ],
      "metadata": {
        "id": "87npltBKfxJQ"
      }
    },
    {
      "cell_type": "code",
      "source": [
        "# view the keys from the eval_result() dictionary\n",
        "xgb_model_vanilla.named_steps['xgbr'].evals_result().keys()"
      ],
      "metadata": {
        "colab": {
          "base_uri": "https://localhost:8080/"
        },
        "id": "pSUs3z1bfycv",
        "outputId": "f79e0c99-d9c1-4b1e-a4c4-f7274cce95a1"
      },
      "execution_count": 29,
      "outputs": [
        {
          "output_type": "execute_result",
          "data": {
            "text/plain": [
              "dict_keys(['validation_0', 'validation_1'])"
            ]
          },
          "metadata": {},
          "execution_count": 29
        }
      ]
    },
    {
      "cell_type": "code",
      "source": [
        "# test & eval scores\n",
        "training_scores = xgb_model_vanilla.named_steps['xgbr']\\\n",
        "    .evals_result()['validation_0']['mae']\n",
        "\n",
        "eval_scores = xgb_model_vanilla.named_steps['xgbr']\\\n",
        "    .evals_result()['validation_1']['mae']"
      ],
      "metadata": {
        "id": "pv7Ne9SahFoO"
      },
      "execution_count": 34,
      "outputs": []
    },
    {
      "cell_type": "code",
      "source": [
        "# specify Axes\n",
        "_, ax = plt.subplots(figsize=(7.5,3), layout='constrained')\n",
        "\n",
        "# plot\n",
        "ax.plot(training_scores, linewidth=1.7, label='Training scores', color='#004225')\n",
        "ax.plot(eval_scores, linewidth=1.7, label='Evaluation scores', color='#bf5700')\n",
        "\n",
        "# title, axis labels, grid, legend\n",
        "ax.set_title('Training and Evaluation Scores vs No. Iterations',\n",
        "             fontsize=11.5)\n",
        "ax.set_ylabel('Mean Absolute Error (mae)', weight='black')\n",
        "ax.set_xlabel('Number of Iterations', weight='black')\n",
        "\n",
        "# plot a vertical line at the point where maximum trees were achieved\n",
        "max_trees = xgb_model_vanilla.named_steps['xgbr'].best_iteration\n",
        "ax.axvline(x=max_trees, color='#013220',\n",
        "          linestyle='--', linewidth=1,\n",
        "           label=f'Max. Trees ({format(max_trees, \",\")})')\n",
        "\n",
        "# ticks, grid\n",
        "ax.grid(axis='both', alpha=0.2)\n",
        "ax.yaxis.set_major_formatter(matplotlib.ticker\\\n",
        "        .FuncFormatter(lambda x, p: format(int(x), ',')))\n",
        "ax.xaxis.set_major_formatter(matplotlib.ticker\\\n",
        "        .FuncFormatter(lambda x, p: format(int(x), ',')))\n",
        "ax.tick_params(axis='both', labelsize=9)\n",
        "#ax.set_ylim(0, 35000)\n",
        "\n",
        "# legend\n",
        "ax.legend(fontsize=9, fancybox=False, loc='upper left',\n",
        "          bbox_to_anchor=(1, 1.02))\n",
        "\n",
        "plt.show()"
      ],
      "metadata": {
        "colab": {
          "base_uri": "https://localhost:8080/",
          "height": 328
        },
        "id": "qfpPdJ1Ihec5",
        "outputId": "cc6c0ce0-763f-4d7f-8023-1b4c339e9075"
      },
      "execution_count": 113,
      "outputs": [
        {
          "output_type": "display_data",
          "data": {
            "text/plain": [
              "<Figure size 750x300 with 1 Axes>"
            ],
            "image/png": "[encoded data removed]"
          },
          "metadata": {}
        }
      ]
    },
    {
      "cell_type": "markdown",
      "source": [
        "> 📈 **Insight**  \n",
        "\n",
        "> Thanks to the `early_stopping` mechanism specified, the model stopped training at the point of _convergence_ (440 trees) where further training would have plateaued the _eval_metric_ `(mean_absolute_error)` or made it worse"
      ],
      "metadata": {
        "id": "6GxAwsRlmbQh"
      }
    },
    {
      "cell_type": "markdown",
      "source": [
        "### Training tuned `RandomForestRegressor`"
      ],
      "metadata": {
        "id": "2U7nKsPcrf_j"
      }
    },
    {
      "cell_type": "code",
      "source": [
        "%%time\n",
        "# pipeline + RandomForestRegressor + tuned parameters\n",
        "forest_model = Pipeline(steps=[\n",
        "    ('preproces', preprocessor),\n",
        "    ('rfr', RandomForestRegressor(**best_rf,\n",
        "                                  n_estimators=500,\n",
        "                                  random_state=42))\n",
        "])\n",
        "\n",
        "# train\n",
        "forest_model.fit(X_train, y_train)\n",
        "print('\\n')"
      ],
      "metadata": {
        "colab": {
          "base_uri": "https://localhost:8080/"
        },
        "id": "UxUgVStBry0H",
        "outputId": "2eafc8db-bdc6-4ed1-d5ca-6e2ec741f19c"
      },
      "execution_count": null,
      "outputs": [
        {
          "output_type": "stream",
          "name": "stdout",
          "text": [
            "\n",
            "\n",
            "CPU times: user 2min 46s, sys: 228 ms, total: 2min 46s\n",
            "Wall time: 3min 12s\n"
          ]
        }
      ]
    },
    {
      "cell_type": "markdown",
      "source": [
        "### Training `RandomForestRegressor` with default parameters"
      ],
      "metadata": {
        "id": "4VjG05s2iznl"
      }
    },
    {
      "cell_type": "code",
      "source": [
        "%%time\n",
        "# pipeline + vanialla RandomForestRegressor\n",
        "forest_model_vanilla = Pipeline(steps=[\n",
        "    ('preproces', preprocessor),\n",
        "    ('rfr', RandomForestRegressor(n_estimators=500,\n",
        "                                  random_state=42))\n",
        "])\n",
        "\n",
        "# train\n",
        "forest_model_vanilla.fit(X_train, y_train)\n",
        "print('\\n')"
      ],
      "metadata": {
        "id": "3aeyiqMch1d3",
        "colab": {
          "base_uri": "https://localhost:8080/"
        },
        "outputId": "bce020d3-bd90-46f4-bc38-122cf17c1b8b"
      },
      "execution_count": 36,
      "outputs": [
        {
          "output_type": "stream",
          "name": "stdout",
          "text": [
            "\n",
            "\n",
            "CPU times: user 2min 33s, sys: 509 ms, total: 2min 34s\n",
            "Wall time: 2min 36s\n"
          ]
        }
      ]
    },
    {
      "cell_type": "markdown",
      "source": [
        "## Evaluation\n",
        "> Time to see how well the model performed.\n",
        "+ We'll evauate our _regression_ model using the following metrics: [`r2_score`](https://scikit-learn.org/stable/modules/generated/sklearn.metrics.r2_score.html#sklearn.metrics.r2_score), [`mean_squared_error`](https://scikit-learn.org/stable/modules/generated/sklearn.metrics.mean_squared_error.html#sklearn.metrics.mean_squared_error), [`mean_absolute_error`](https://scikit-learn.org/stable/modules/generated/sklearn.metrics.mean_absolute_error.html#sklearn.metrics.mean_absolute_error)\n",
        ">> + `r2_score` is measured on a sclale of `0` - `1.0`, whereas `mean_squared_error` and `mean_absolute_error` should ideally as small as possible\n",
        "+ Note that there are other metrics to evaluate regression models. Those can be found on the `sklearn` documentation [`here`](https://scikit-learn.org/stable/modules/model_evaluation.html#regression-metrics)"
      ],
      "metadata": {
        "id": "3DJQ9o9fpzzZ"
      }
    },
    {
      "cell_type": "code",
      "source": [
        "# import necessary regression metrics\n",
        "from sklearn.metrics import r2_score, mean_squared_error, mean_absolute_error\n",
        "import math\n",
        "\n",
        "# define a function to perform evaluation\n",
        "def evaluate_model(model, X_test, y_test):\n",
        "  # get predictions\n",
        "  y_pred = model.predict(X_test)\n",
        "\n",
        "  r2 = r2_score(y_test, y_pred)\n",
        "  mse = mean_squared_error(y_test, y_pred)\n",
        "  rmse = math.sqrt(mse)\n",
        "  mae = mean_absolute_error(y_test, y_pred)\n",
        "\n",
        "  # print\n",
        "  print(f'R_Squared: {round(r2, 2)}')\n",
        "  print(f'Mean Squared Error: {format(round(mse, 2), \",\")}')\n",
        "  print(f'Root Mean Squared Error: {format(round(rmse, 2), \",\")}')\n",
        "  print(f'Mean Absolute Error: {format(round(mae, 2), \",\")}')"
      ],
      "metadata": {
        "id": "byuYv2FwrPU7"
      },
      "execution_count": 38,
      "outputs": []
    },
    {
      "cell_type": "markdown",
      "source": [
        "### `XGBRegressor`"
      ],
      "metadata": {
        "id": "wQzLr8ffqAF7"
      }
    },
    {
      "cell_type": "code",
      "source": [
        "# evaluate tuned XGBRegressor model\n",
        "evaluate_model(xgbr_model, X_test, y_test)"
      ],
      "metadata": {
        "colab": {
          "base_uri": "https://localhost:8080/"
        },
        "id": "D-sdqUgwvN8K",
        "outputId": "e5a1d673-db1a-471f-a9e7-7b7b57c77b24"
      },
      "execution_count": null,
      "outputs": [
        {
          "output_type": "stream",
          "name": "stdout",
          "text": [
            "R_Squared: 0.92\n",
            "Mean Squared Error: 992,865,445.73\n",
            "Root Mean Squared Error: 31,509.77\n",
            "Mean Absolute Error: 12,996.6\n"
          ]
        }
      ]
    },
    {
      "cell_type": "code",
      "source": [
        "# evaluate XGBRegressor model with default parameters\n",
        "evaluate_model(xgb_model_vanilla, X_test, y_test)"
      ],
      "metadata": {
        "colab": {
          "base_uri": "https://localhost:8080/"
        },
        "id": "43bwz3BEhsOI",
        "outputId": "28e7af90-11c7-4761-ecf2-b75f5e007cb0"
      },
      "execution_count": null,
      "outputs": [
        {
          "output_type": "stream",
          "name": "stdout",
          "text": [
            "R_Squared: 0.92\n",
            "Mean Squared Error: 1,003,002,614.06\n",
            "Root Mean Squared Error: 31,670.22\n",
            "Mean Absolute Error: 11,940.18\n"
          ]
        }
      ]
    },
    {
      "cell_type": "markdown",
      "source": [
        "### `RandomForestRegressor`"
      ],
      "metadata": {
        "id": "wHGtEH2CqFR0"
      }
    },
    {
      "cell_type": "code",
      "source": [
        "# evaluate tuned RandomForestRegressor model\n",
        "evaluate_model(forest_model, X_test, y_test)"
      ],
      "metadata": {
        "colab": {
          "base_uri": "https://localhost:8080/"
        },
        "id": "rjGyW2sMkDAk",
        "outputId": "e4aa9d4b-d668-4054-cde0-373361a9e722"
      },
      "execution_count": null,
      "outputs": [
        {
          "output_type": "stream",
          "name": "stdout",
          "text": [
            "R_Squared: 0.92\n",
            "Mean Squared Error: 1,003,002,614.06\n",
            "Root Mean Squared Error: 31,670.22\n",
            "Mean Absolute Error: 11,940.18\n"
          ]
        }
      ]
    },
    {
      "cell_type": "code",
      "source": [
        "# evaluate RandomForestRegressor model with default parameters\n",
        "evaluate_model(forest_model_vanilla, X_test, y_test)"
      ],
      "metadata": {
        "colab": {
          "base_uri": "https://localhost:8080/"
        },
        "id": "hbgz4OW3jM42",
        "outputId": "713bc896-ab81-4b53-8190-5d92408377a0"
      },
      "execution_count": 39,
      "outputs": [
        {
          "output_type": "stream",
          "name": "stdout",
          "text": [
            "R_Squared: 0.93\n",
            "Mean Squared Error: 974,426,967.34\n",
            "Root Mean Squared Error: 31,215.81\n",
            "Mean Absolute Error: 11,557.52\n"
          ]
        }
      ]
    },
    {
      "cell_type": "markdown",
      "source": [
        "> 💡 **Insight**  \n",
        "\n",
        "> All models (tuned or not) seem to have have close to the same performance, indicating that a model is only as good as the data it's trained on. All in all, that is the best we could do with this dataset (except maybe feature engineering, or finding more features, such as `temperature` and `soil type`)"
      ],
      "metadata": {
        "id": "yQDkKZ1QkZcc"
      }
    },
    {
      "cell_type": "markdown",
      "source": [
        "## Model persistence"
      ],
      "metadata": {
        "id": "GUvXgtrGc3-u"
      }
    },
    {
      "cell_type": "markdown",
      "source": [
        "#### Saving the model\n",
        "> The model with the best metrics `(forest_model_vanilla)` has been saved in the `model` folder of the current repository as `crop_recommendation_model.pkl`"
      ],
      "metadata": {
        "id": "ioXxO3Fqc7IH"
      }
    },
    {
      "cell_type": "code",
      "source": [
        "import joblib\n",
        "filename = 'production_estimation.pkl'\n",
        "\n",
        "# dump\n",
        "joblib.dump(value=forest_model_vanilla,\n",
        "            filename=filename)"
      ],
      "metadata": {
        "colab": {
          "base_uri": "https://localhost:8080/"
        },
        "id": "HXqILrZzc9YB",
        "outputId": "db904186-f987-4cd1-add0-67463dfd16bb"
      },
      "execution_count": 40,
      "outputs": [
        {
          "output_type": "execute_result",
          "data": {
            "text/plain": [
              "['production_estimation.pkl']"
            ]
          },
          "metadata": {},
          "execution_count": 40
        }
      ]
    },
    {
      "cell_type": "markdown",
      "source": [
        "#### Model inferencing example"
      ],
      "metadata": {
        "id": "qVJ7L2EXpVch"
      }
    },
    {
      "cell_type": "code",
      "source": [
        "# load the saved model\n",
        "model = joblib.load(filename)\n",
        "\n",
        "# assume we have a list of features: (with 'area' at index 3)\n",
        "X_new = ['Tapioca', 'Whole Year', 'Karnataka', 1058.0, 104720.84, 253.92]"
      ],
      "metadata": {
        "id": "Pm1PGXfEpYii"
      },
      "execution_count": 93,
      "outputs": []
    },
    {
      "cell_type": "code",
      "source": [
        "# predicting production\n",
        "prod = model.predict(np.array(X_new).reshape(1,6))[0]\n",
        "\n",
        "print(f'Estimated Production: {round(prod, 2)} Tons')"
      ],
      "metadata": {
        "colab": {
          "base_uri": "https://localhost:8080/"
        },
        "id": "YqQ3cRdpl0l4",
        "outputId": "62ac3b39-211e-4770-d6e5-fa2767f3a6fc"
      },
      "execution_count": 120,
      "outputs": [
        {
          "output_type": "stream",
          "name": "stdout",
          "text": [
            "Estimated Production: 7444.74 Tons\n"
          ]
        }
      ]
    },
    {
      "cell_type": "code",
      "source": [
        "# recall that yield is production / area\n",
        "yields = model.predict(np.array(X_new).reshape(1,6))[0] / X_new[3]\n",
        "\n",
        "print(f'Estimated Crop Yield: {round(yields, 2)} Tons/ha')"
      ],
      "metadata": {
        "colab": {
          "base_uri": "https://localhost:8080/"
        },
        "id": "LzAHrrR3pu6s",
        "outputId": "5bde79d4-b9ab-4b34-88af-840b8469c29c"
      },
      "execution_count": 121,
      "outputs": [
        {
          "output_type": "stream",
          "name": "stdout",
          "text": [
            "Estimated Crop Yield: 7.04 Tons/ha\n"
          ]
        }
      ]
    }
  ]
}